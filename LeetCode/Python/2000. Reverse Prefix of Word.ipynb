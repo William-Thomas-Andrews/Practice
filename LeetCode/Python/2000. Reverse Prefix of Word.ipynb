{
 "cells": [
  {
   "cell_type": "code",
   "execution_count": 1,
   "id": "730aacaa-d375-4679-a591-781af484de2b",
   "metadata": {},
   "outputs": [],
   "source": [
    "class Solution(object):\n",
    "    def reversePrefix(self, word, ch):\n",
    "        \"\"\"\n",
    "        :type word: str\n",
    "        :type ch: str\n",
    "        :rtype: str\n",
    "        \"\"\"\n",
    "        if ch not in list(word):\n",
    "            return(word)\n",
    "        else:\n",
    "            one = (list(word[0:(word.index(ch) + 1)]))[::-1]\n",
    "            two = list(str(word[(word.index(ch)+1):(len(word)+1)]))\n",
    "            return(''.join(concat(one, two)))"
   ]
  }
 ],
 "metadata": {
  "kernelspec": {
   "display_name": "Python 3 (ipykernel)",
   "language": "python",
   "name": "python3"
  },
  "language_info": {
   "codemirror_mode": {
    "name": "ipython",
    "version": 3
   },
   "file_extension": ".py",
   "mimetype": "text/x-python",
   "name": "python",
   "nbconvert_exporter": "python",
   "pygments_lexer": "ipython3",
   "version": "3.11.6"
  }
 },
 "nbformat": 4,
 "nbformat_minor": 5
}
